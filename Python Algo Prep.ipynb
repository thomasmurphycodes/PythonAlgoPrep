{
 "cells": [
  {
   "cell_type": "markdown",
   "metadata": {},
   "source": [
    "#### Recursion\n",
    "* Recursion consists of a repeated function call with shifting arguments, building up a stack.\n",
    "* It requires an ending condition to return a result and prevent infinite recursion"
   ]
  },
  {
   "cell_type": "code",
   "execution_count": 1,
   "metadata": {},
   "outputs": [
    {
     "name": "stdout",
     "output_type": "stream",
     "text": [
      "120\n"
     ]
    }
   ],
   "source": [
    "# Factorial is n!\n",
    "def factorial(factor):\n",
    "    if factor  < 0:\n",
    "        return 0\n",
    "    elif factor == 1:\n",
    "        return 1 # Last stack push hits here, so 2 * 1 is first return\n",
    "    else:\n",
    "        return factor * factorial(factor - 1) # Stack Builds here\n",
    "print(factorial(5)) # 5 * (4 * (3 * (2 * 1)))"
   ]
  },
  {
   "cell_type": "code",
   "execution_count": 9,
   "metadata": {},
   "outputs": [
    {
     "data": {
      "text/plain": [
       "10"
      ]
     },
     "execution_count": 9,
     "metadata": {},
     "output_type": "execute_result"
    }
   ],
   "source": [
    "def greatestCommonFactor(a, b):\n",
    "    '''\n",
    "    Modulo gets us to greatest common factor.\n",
    "    When modulo is 0, you know you have a common factor\n",
    "    '''\n",
    "    if b == 0:\n",
    "        return a\n",
    "    else:\n",
    "        return greatestCommonFactor(b, a%b)\n",
    "greatestCommonFactor(90, 20)"
   ]
  },
  {
   "cell_type": "code",
   "execution_count": 12,
   "metadata": {},
   "outputs": [
    {
     "data": {
      "text/plain": [
       "132.0"
      ]
     },
     "execution_count": 12,
     "metadata": {},
     "output_type": "execute_result"
    }
   ],
   "source": [
    "def leastCommonMultiple(a, b):\n",
    "    return abs(a * b)/greatestCommonFactor(a, b) # Absolute value of product of a & b/ GCF or GCD of a & b\n",
    "leastCommonMultiple(12, 33)"
   ]
  },
  {
   "cell_type": "code",
   "execution_count": 28,
   "metadata": {},
   "outputs": [],
   "source": [
    "def fibonacciSequence(n):\n",
    "    if n in [0, 1]:\n",
    "        return 1\n",
    "    return fibonacciSequence(n - 1) + fibonacciSequence(n - 2)"
   ]
  },
  {
   "cell_type": "code",
   "execution_count": 29,
   "metadata": {},
   "outputs": [
    {
     "name": "stdout",
     "output_type": "stream",
     "text": [
      "21\n"
     ]
    }
   ],
   "source": [
    "print(fibonacciSequence(7))"
   ]
  },
  {
   "cell_type": "code",
   "execution_count": 35,
   "metadata": {},
   "outputs": [
    {
     "name": "stdout",
     "output_type": "stream",
     "text": [
      "bar\n",
      "foo\n"
     ]
    }
   ],
   "source": [
    "class LinkedListNode:\n",
    "    def __init__(self, nextNode, content):\n",
    "        self.next = nextNode\n",
    "        self.content = content\n",
    "def reverseLinkedList(node):\n",
    "    if node.next:\n",
    "        reverseLinkedList(node.next)\n",
    "    print(node.content)\n",
    "bar = LinkedListNode(None, 'bar')\n",
    "foo = LinkedListNode(bar, 'foo')\n",
    "reverseLinkedList(foo)"
   ]
  },
  {
   "cell_type": "markdown",
   "metadata": {},
   "source": [
    "# Tree Operations\n",
    "* A tree is a structure with a root node and one or more nodes connected to the root\n",
    "* For our purposes here, we'll model the connected nodes as left and right.\n",
    "* Three traversals possible, **pre-Order**, **post-Order**, and **in-Order**"
   ]
  },
  {
   "cell_type": "code",
   "execution_count": 38,
   "metadata": {},
   "outputs": [],
   "source": [
    "class Node:\n",
    "    def __init__(self, left, right, data):\n",
    "        self.left = left\n",
    "        self.right = right\n",
    "        self.data = data\n",
    "\n",
    "f = Node(None, None, 'f')\n",
    "g = Node(None, None, 'g')\n",
    "e = Node(None, None, 'e')\n",
    "d = Node(None, None, 'd')        \n",
    "b = Node(d, e, 'b')\n",
    "a = Node(f, g, 'a')\n",
    "c = Node(a, b, 'c') # Root\n"
   ]
  },
  {
   "cell_type": "code",
   "execution_count": 39,
   "metadata": {},
   "outputs": [
    {
     "name": "stdout",
     "output_type": "stream",
     "text": [
      "c\n",
      "a\n",
      "f\n",
      "g\n",
      "b\n",
      "d\n",
      "e\n"
     ]
    }
   ],
   "source": [
    "def preOrderTraversal(root):\n",
    "    '''\n",
    "    If left exists, print and continue left (printing along the way) as long as possible\n",
    "    Once left is null print right if exists and continue left as long as possible\n",
    "    Work back up stack\n",
    "    Print - Left - Right - PLR\n",
    "    '''\n",
    "    print(root.data)\n",
    "    if root.left:\n",
    "        preOrderTraversal(root.left)\n",
    "    if root.right:\n",
    "        preOrderTraversal(root.right)\n",
    "preOrderTraversal(c)"
   ]
  },
  {
   "cell_type": "code",
   "execution_count": 42,
   "metadata": {},
   "outputs": [
    {
     "name": "stdout",
     "output_type": "stream",
     "text": [
      "f\n",
      "g\n",
      "a\n",
      "d\n",
      "e\n",
      "b\n",
      "c\n"
     ]
    }
   ],
   "source": [
    "def postOrderTraversal(node):\n",
    "    '''\n",
    "    Travel left if not null\n",
    "    Travel right if not null\n",
    "    Print once at a leaf\n",
    "    Left - Right - Print LRP\n",
    "    '''\n",
    "    if node.left:\n",
    "        postOrderTraversal(node.left)\n",
    "    if node.right:\n",
    "        postOrderTraversal(node.right)\n",
    "    print(node.data)\n",
    "postOrderTraversal(c)"
   ]
  },
  {
   "cell_type": "code",
   "execution_count": 44,
   "metadata": {},
   "outputs": [
    {
     "name": "stdout",
     "output_type": "stream",
     "text": [
      "f\n",
      "a\n",
      "g\n",
      "c\n",
      "d\n",
      "b\n",
      "e\n"
     ]
    }
   ],
   "source": [
    "def inOrderTraversal(node):\n",
    "    '''\n",
    "    Travel left if possible\n",
    "    Print when not\n",
    "    Travel right\n",
    "    This ends up printing the tree \"Bottom Up\" in pattern left leaf left parent right leaf all the way up\n",
    "    '''\n",
    "    if node.left:\n",
    "        inOrderTraversal(node.left)\n",
    "    print(node.data)\n",
    "    if node.right:\n",
    "        inOrderTraversal(node.right)\n",
    "inOrderTraversal(c)"
   ]
  },
  {
   "cell_type": "markdown",
   "metadata": {},
   "source": [
    "# Sort\n",
    "* Sorting is a two step process\n",
    "* First, pick a pivot node\n",
    "* Then perform the partitioning process so that all elements to the left of the pivot are less than the pivot and all nodes to the right are greater than the pivot\n",
    "* The main quicksort function doesn't really do much - just directs the divide and conquer, the partitioning does all the work"
   ]
  },
  {
   "cell_type": "code",
   "execution_count": 53,
   "metadata": {},
   "outputs": [
    {
     "name": "stdout",
     "output_type": "stream",
     "text": [
      "Pivot:16\n",
      "Start:-1\n",
      "numbers[i] is: 4\n",
      "Number series swap will happen on[4, 5, 33, 17, 3, 21, 1, 16]\n",
      "x is: 0\n",
      "i is: 0\n",
      "numbers[i] is: 5\n",
      "Number series swap will happen on[4, 5, 33, 17, 3, 21, 1, 16]\n",
      "x is: 1\n",
      "i is: 1\n",
      "numbers[i] is: 3\n",
      "Number series swap will happen on[4, 5, 33, 17, 3, 21, 1, 16]\n",
      "x is: 2\n",
      "i is: 4\n",
      "numbers[i] is: 1\n",
      "Number series swap will happen on[4, 5, 3, 17, 33, 21, 1, 16]\n",
      "x is: 3\n",
      "i is: 6\n",
      "x is: 4\n",
      "i is: 7\n",
      "Pivot:1\n",
      "Start:-1\n",
      "x is: 0\n",
      "i is: 3\n",
      "Pivot:4\n",
      "Start:0\n",
      "numbers[i] is: 3\n",
      "Number series swap will happen on[1, 5, 3, 4, 16, 21, 17, 33]\n",
      "x is: 1\n",
      "i is: 2\n",
      "x is: 2\n",
      "i is: 3\n",
      "Pivot:33\n",
      "Start:4\n",
      "numbers[i] is: 21\n",
      "Number series swap will happen on[1, 3, 4, 5, 16, 21, 17, 33]\n",
      "x is: 5\n",
      "i is: 5\n",
      "numbers[i] is: 17\n",
      "Number series swap will happen on[1, 3, 4, 5, 16, 21, 17, 33]\n",
      "x is: 6\n",
      "i is: 6\n",
      "x is: 7\n",
      "i is: 7\n",
      "Pivot:17\n",
      "Start:4\n",
      "x is: 5\n",
      "i is: 6\n"
     ]
    },
    {
     "data": {
      "text/plain": [
       "[1, 3, 4, 5, 16, 17, 21, 33]"
      ]
     },
     "execution_count": 53,
     "metadata": {},
     "output_type": "execute_result"
    }
   ],
   "source": [
    "# [4, 5, 33, 17, 3, 21, 1, 16]\n",
    "\n",
    "def swap(numbers, x, i):\n",
    "    # TL;DR - x becomes i, i becomes x - note that these two are *indexes*,  \n",
    "    temp = numbers[x] # the number to be moved\n",
    "    print('x is:', str(x))\n",
    "    print('i is:', str(i))\n",
    "    numbers[x] = numbers[i] # Insert the value at i to where x was\n",
    "    numbers[i] = temp # Put x where i was\n",
    "    \n",
    "\n",
    "def partition(numbers, start, end):\n",
    "    pivot = numbers[end] # Last element of slice\n",
    "    print('Pivot:' + str(pivot))\n",
    "    x = start - 1 # First element of slice - note that this will be -1 in first pass\n",
    "    print('Start:' + str(x))\n",
    "    for i in range(start, end): # Iterate over length of slice\n",
    "        if numbers[i] < pivot:\n",
    "            '''\n",
    "            Okay - so the way this works is that x increments when the number being tested is in its final position\n",
    "            for this round. It doesn't increment when the number is bigger than the pivot - so x and i become\n",
    "            unequal and when swap runs next it will move positions\n",
    "            '''\n",
    "            x += 1 # Pointer to what the element is that will be swapped\n",
    "            print('numbers[i] is:', str(numbers[i]))\n",
    "            print('Number series swap will happen on' + str(numbers))\n",
    "            swap(numbers, x, i) \n",
    "    swap(numbers, x+1, end) # last node in slice passed in swaps into wherever the start node incremented to\n",
    "    return x + 1\n",
    "\n",
    "def quicksort(numbers, start, end):\n",
    "    if start < end:\n",
    "        p = partition(numbers, start, end)\n",
    "        quicksort(numbers, start, p - 1) # Slice smaller than p\n",
    "        quicksort(numbers, p + 1, end) # Slice bigger than p\n",
    "    return numbers\n",
    "\n",
    "sort_me = [4, 5, 33, 17, 3, 21, 1, 16]\n",
    "quicksort(sort_me, 0, len(sort_me) - 1)"
   ]
  },
  {
   "cell_type": "markdown",
   "metadata": {},
   "source": [
    "# Binary Search\n",
    "* Binary search works by repeatedly splitting the search space in half. It decide which half to head to by testing where the search candidate is smaller or bigger than the comparison number."
   ]
  },
  {
   "cell_type": "code",
   "execution_count": 1,
   "metadata": {},
   "outputs": [],
   "source": [
    "def binarySearch(numbers, target):\n",
    "    low = 0\n",
    "    high = len(numbers) - 1\n",
    "    while low <= high:\n",
    "        mid = (low + high) // 2\n",
    "        comp = numbers[mid]\n",
    "        if comp == target:\n",
    "            return mid # Target found, return idx\n",
    "        elif comp < target:\n",
    "            low = mid + 1 # Search in higher half\n",
    "        else:\n",
    "            high = mid - 1 # Search in lower half\n",
    "    return -1 # Not found\n",
    "        "
   ]
  },
  {
   "cell_type": "code",
   "execution_count": 62,
   "metadata": {},
   "outputs": [
    {
     "data": {
      "text/plain": [
       "4"
      ]
     },
     "execution_count": 62,
     "metadata": {},
     "output_type": "execute_result"
    }
   ],
   "source": [
    "binarySearch(sort_me, 16)"
   ]
  },
  {
   "cell_type": "markdown",
   "metadata": {},
   "source": [
    "# Greedy\n",
    "* Greedy algorithms at their heart are **Optimal Activity Selection** problems operating forward in time.\n",
    "* Two basic properties of this algorith class:\n",
    "    1. Optimal substructure: Each subproblem reflects global problem. Specifically, each subset of the problem operated on must exhibit the global structure so coherence is reached.\n",
    "    2. Greedy choice: From the local optimum, the global optimum is reached without revisiting local subproblems. In this example - if you've reached the maximum size of subset and can pick something with an earlier end time, that choice is even greedier and should be chosen"
   ]
  },
  {
   "cell_type": "code",
   "execution_count": 90,
   "metadata": {},
   "outputs": [],
   "source": [
    "class Activity:\n",
    "    \n",
    "    def __init__(self, activityName, start, end):\n",
    "        self.activityName = activityName\n",
    "        self.start = start\n",
    "        self.end = end\n",
    "\n",
    "a = Activity(\"a\", 600, 720)\n",
    "b = Activity(\"b\", 1200, 1380)\n",
    "c = Activity(\"c\", 1020, 1140)\n",
    "d = Activity(\"d\", 600, 630)\n",
    "e = Activity(\"e\", 1290, 1380)\n",
    "f = Activity(\"f\", 750, 810)\n",
    "g = Activity(\"g\", 1200, 1320)\n",
    "h = Activity(\"h\", 1020, 1170)\n",
    "i = Activity(\"i\", 960, 1140) \n",
    "j = Activity(\"j\", 900, 1020)\n",
    "\n",
    "def selectOptimalActivities(activitySet):\n",
    "    optimalSet = []\n",
    "    activitySet.sort(key=lambda x: x.end)\n",
    "    if len(activitySet) > 0:\n",
    "        optimalSet.append(activitySet[0]) # Always take first if sorted list non-empty\n",
    "    for i in range(1, len(activitySet) - 1):\n",
    "        if activitySet[i].start >= optimalSet[len(optimalSet) - 1].end:\n",
    "            optimalSet.append(activitySet[i])\n",
    "    return optimalSet"
   ]
  },
  {
   "cell_type": "code",
   "execution_count": 94,
   "metadata": {},
   "outputs": [
    {
     "name": "stdout",
     "output_type": "stream",
     "text": [
      "d f j c g \n"
     ]
    }
   ],
   "source": [
    "optimalActivitySet = selectOptimalActivities([a, b, c, d, e, f, g, h, i, j])\n",
    "activityNames = \"\"\n",
    "for a in aSet:\n",
    "    activityNames += a.activityName + \" \"\n",
    "print(activityNames)"
   ]
  },
  {
   "cell_type": "markdown",
   "metadata": {},
   "source": [
    "# Dynamic Programming\n",
    "* Dynamic programming breaks a problem into subproblems and solves those first, leading to the solution to the main problem\n",
    "* This is the GOTO when you have a cost function and a value function with a defined capacity. i.e. the tuples ${(($400, 20), ($200, 12), ($50, 1))}$ and capacity 4\n",
    "* The classic example of this is **the knapsack problem** - what are the optimal items to purchase/steal to maximize value with a knapsack of size n \n",
    "* Naive solution - brute force all combinations - bad - an ${O(n)^2}$ runtime\n",
    "* Dynamic programming offers a better way - solves \"sub-knapsacks\" first - modeled as a matrix with rows as items and columns as knapsack sizes\n",
    "* Steps:\n",
    "    1. Fill in the value function to that item's row\n",
    "    2. For each row in the column, this represents the \"best guess\" of item to steal\n",
    "    3. In each row, you steal the item in that row, or the item above it (subject to capacity constraints)\n",
    "    4. The order of rows doesn't matter\n",
    "    5. The final row is **always the optimal solution** for what we've seen so far"
   ]
  },
  {
   "cell_type": "code",
   "execution_count": 119,
   "metadata": {},
   "outputs": [],
   "source": [
    "class StealableItem:\n",
    "    \n",
    "    def __init__(self, value, weight, name):\n",
    "        self.weight = weight\n",
    "        self.value = value\n",
    "        self.name = name\n",
    "\n",
    "stealableItems = []\n",
    "stealableItems.append(StealableItem(3000, 4, \"Stereo\"));\n",
    "stealableItems.append(StealableItem(2000, 3, \"Laptop\"));\n",
    "stealableItems.append(StealableItem(1500, 1, \"Guitar\"));\n",
    "stealableItems.append(StealableItem(2000, 1, \"iPhone\"));"
   ]
  },
  {
   "cell_type": "code",
   "execution_count": 125,
   "metadata": {},
   "outputs": [],
   "source": [
    "import numpy as np\n",
    "def knapsack(stealableItems, sackSize):\n",
    "    space = np.zeros([len(stealableItems), sackSize])\n",
    "    for r in range(len(stealableItems)):\n",
    "        for c in range(sackSize):\n",
    "            if r == 0:\n",
    "                space[r][c] = stealableItems[r].value # Always take first rows value\n",
    "                print(space[r][c])\n",
    "            elif c - stealableItems[r].weight < 0:\n",
    "                    space[r][c] = space[r-1][c] # Weight of this row's item is too heavy, take previous rows\n",
    "            else:\n",
    "                # Maximize value by taking the previous rows value or this row + previous row's remaining space\n",
    "                space[r][c] = max(space[r-1][c], stealableItems[r].value + space[r - 1][c - stealableItems[r].weight])\n",
    "    print(space)\n",
    "                \n",
    "    "
   ]
  },
  {
   "cell_type": "code",
   "execution_count": 126,
   "metadata": {},
   "outputs": [
    {
     "name": "stdout",
     "output_type": "stream",
     "text": [
      "3000.0\n",
      "3000.0\n",
      "3000.0\n",
      "3000.0\n",
      "[[3000. 3000. 3000. 3000.]\n",
      " [3000. 3000. 3000. 5000.]\n",
      " [3000. 4500. 4500. 5000.]\n",
      " [3000. 5000. 6500. 6500.]]\n"
     ]
    }
   ],
   "source": [
    "knapsack(stealableItems, 4)"
   ]
  },
  {
   "cell_type": "code",
   "execution_count": 129,
   "metadata": {},
   "outputs": [],
   "source": [
    "inputArray = '10 \\nyellowShirt\\nredHat\\nblackShirt\\nbluePants\\nredHat\\npinkHat\\nblackShirt\\nyellowShirt\\ngreenPants\\ngreenPants'''"
   ]
  },
  {
   "cell_type": "code",
   "execution_count": 130,
   "metadata": {},
   "outputs": [
    {
     "data": {
      "text/plain": [
       "['10 ',\n",
       " 'yellowShirt',\n",
       " 'redHat',\n",
       " 'blackShirt',\n",
       " 'bluePants',\n",
       " 'redHat',\n",
       " 'pinkHat',\n",
       " 'blackShirt',\n",
       " 'yellowShirt',\n",
       " 'greenPants',\n",
       " 'greenPants']"
      ]
     },
     "execution_count": 130,
     "metadata": {},
     "output_type": "execute_result"
    }
   ],
   "source": [
    "inputArray.splitlines()"
   ]
  },
  {
   "cell_type": "code",
   "execution_count": 131,
   "metadata": {},
   "outputs": [
    {
     "ename": "NameError",
     "evalue": "name 'products' is not defined",
     "output_type": "error",
     "traceback": [
      "\u001b[0;31m---------------------------------------------------------------------------\u001b[0m",
      "\u001b[0;31mNameError\u001b[0m                                 Traceback (most recent call last)",
      "\u001b[0;32m<ipython-input-131-e0af7d042c3d>\u001b[0m in \u001b[0;36m<module>\u001b[0;34m\u001b[0m\n\u001b[0;32m----> 1\u001b[0;31m \u001b[0;32mfor\u001b[0m \u001b[0mp\u001b[0m \u001b[0;32min\u001b[0m \u001b[0mproducts\u001b[0m\u001b[0;34m:\u001b[0m\u001b[0;34m\u001b[0m\u001b[0;34m\u001b[0m\u001b[0m\n\u001b[0m\u001b[1;32m      2\u001b[0m         \u001b[0;32mif\u001b[0m \u001b[0mp\u001b[0m \u001b[0;32mnot\u001b[0m \u001b[0;32min\u001b[0m \u001b[0mproduct_dict\u001b[0m\u001b[0;34m:\u001b[0m\u001b[0;34m\u001b[0m\u001b[0;34m\u001b[0m\u001b[0m\n\u001b[1;32m      3\u001b[0m             \u001b[0mproduct_dict\u001b[0m\u001b[0;34m[\u001b[0m\u001b[0mp\u001b[0m\u001b[0;34m]\u001b[0m \u001b[0;34m=\u001b[0m \u001b[0;36m1\u001b[0m\u001b[0;34m\u001b[0m\u001b[0;34m\u001b[0m\u001b[0m\n\u001b[1;32m      4\u001b[0m         \u001b[0;32melse\u001b[0m\u001b[0;34m:\u001b[0m\u001b[0;34m\u001b[0m\u001b[0;34m\u001b[0m\u001b[0m\n\u001b[1;32m      5\u001b[0m             \u001b[0mproduct_dict\u001b[0m\u001b[0;34m[\u001b[0m\u001b[0mp\u001b[0m\u001b[0;34m]\u001b[0m \u001b[0;34m+=\u001b[0m \u001b[0;36m1\u001b[0m\u001b[0;34m\u001b[0m\u001b[0;34m\u001b[0m\u001b[0m\n",
      "\u001b[0;31mNameError\u001b[0m: name 'products' is not defined"
     ]
    }
   ],
   "source": [
    "#!/bin/python3\n",
    "\n",
    "import math\n",
    "import os\n",
    "import random\n",
    "import re\n",
    "import sys\n",
    "\n",
    "\n",
    "import numpy as np\n",
    "#\n",
    "# Complete the 'featuredProduct' function below.\n",
    "#\n",
    "# The function is expected to return a STRING.\n",
    "# The function accepts STRING_ARRAY products as parameter.\n",
    "#\n",
    "\n",
    "# max(product day t)\n",
    "# featured -> day t + 1\n",
    "# if tie for max return all products alphabetically, choose last\n",
    "\n",
    "def featuredProduct(products):\n",
    "    product_dict = {}\n",
    "    for p in products:\n",
    "        if p not in product_dict:\n",
    "            product_dict[p] = 1\n",
    "        else:\n",
    "            product_dict[p] += 1\n",
    "    filtered_product_dict = {}\n",
    "    max_sales = max(product_dict.values())\n",
    "    print(max_sales)\n",
    "    for key in product_dict:\n",
    "        print(key)\n",
    "        if product_dict[key] == max_sales:\n",
    "            filtered_product_dict[key] = product_dict[key]\n",
    "    max_sale_items = filtered_product_dict.keys()\n",
    "    sorted_max_sale_items = sorted(max_sale_items)\n",
    "    print(sorted_max_sale_items[-1])\n",
    "if __name__ == '__main__':"
   ]
  },
  {
   "cell_type": "code",
   "execution_count": 132,
   "metadata": {},
   "outputs": [],
   "source": [
    "my_list = [4,3,2,5]"
   ]
  },
  {
   "cell_type": "code",
   "execution_count": 137,
   "metadata": {},
   "outputs": [],
   "source": [
    "for n in range(2):\n",
    "    my_list[len(my_list) - (n + 1)] += 2"
   ]
  },
  {
   "cell_type": "code",
   "execution_count": 138,
   "metadata": {},
   "outputs": [
    {
     "data": {
      "text/plain": [
       "[4, 3, 4, 7]"
      ]
     },
     "execution_count": 138,
     "metadata": {},
     "output_type": "execute_result"
    }
   ],
   "source": [
    "my_list"
   ]
  },
  {
   "cell_type": "code",
   "execution_count": null,
   "metadata": {},
   "outputs": [],
   "source": []
  }
 ],
 "metadata": {
  "kernelspec": {
   "display_name": "Python 3",
   "language": "python",
   "name": "python3"
  },
  "language_info": {
   "codemirror_mode": {
    "name": "ipython",
    "version": 3
   },
   "file_extension": ".py",
   "mimetype": "text/x-python",
   "name": "python",
   "nbconvert_exporter": "python",
   "pygments_lexer": "ipython3",
   "version": "3.8.3"
  }
 },
 "nbformat": 4,
 "nbformat_minor": 2
}
